{
 "cells": [
  {
   "cell_type": "code",
   "execution_count": 1,
   "metadata": {},
   "outputs": [],
   "source": [
    "import numpy as np\n",
    "import pandas as pd\n",
    "import pickle\n",
    "from sklearn import metrics\n",
    "from collections import defaultdict"
   ]
  },
  {
   "cell_type": "code",
   "execution_count": 2,
   "metadata": {},
   "outputs": [],
   "source": [
    "file = 'pklFiles/df.pkl'\n",
    "with open(file, 'rb') as fileobj:\n",
    "    df = pickle.load(fileobj)"
   ]
  },
  {
   "cell_type": "code",
   "execution_count": 3,
   "metadata": {},
   "outputs": [],
   "source": [
    "X = df['title']\n",
    "y = df['ENCODED_CATEGORY']"
   ]
  },
  {
   "cell_type": "code",
   "execution_count": 4,
   "metadata": {},
   "outputs": [],
   "source": [
    "np.random.seed(42)\n",
    "shuffled_df = df.sample(frac=1).reset_index(drop=True)\n",
    "split_ratio = 0.8\n",
    "split_index = int(len(shuffled_df) * split_ratio)\n",
    "\n",
    "X_train = shuffled_df['title'][:split_index]\n",
    "y_train = shuffled_df['ENCODED_CATEGORY'][:split_index]\n",
    "X_test = shuffled_df['title'][split_index:]\n",
    "y_test = shuffled_df['ENCODED_CATEGORY'][split_index:]"
   ]
  },
  {
   "cell_type": "code",
   "execution_count": 5,
   "metadata": {},
   "outputs": [],
   "source": [
    "class CountVectorizer:\n",
    "    def __init__(self):\n",
    "        self.vocabulary = {}\n",
    "    \n",
    "    def _process_document(self, doc):\n",
    "        if pd.isna(doc):\n",
    "            return []\n",
    "        return str(doc).lower().split()\n",
    "    \n",
    "    def fit_transform(self, documents):\n",
    "        word_count = defaultdict(int)\n",
    "        \n",
    "        for doc in documents:\n",
    "            words = self._process_document(doc)\n",
    "            for word in words:\n",
    "                if word not in self.vocabulary:\n",
    "                    self.vocabulary[word] = len(self.vocabulary)\n",
    "                word_count[word] += 1\n",
    "        \n",
    "        return self.transform(documents)\n",
    "    \n",
    "    def transform(self, documents):\n",
    "        matrix = np.zeros((len(documents), len(self.vocabulary)))\n",
    "        \n",
    "        for i, doc in enumerate(documents):\n",
    "            words = self._process_document(doc)\n",
    "            for word in words:\n",
    "                if word in self.vocabulary:\n",
    "                    j = self.vocabulary[word]\n",
    "                    matrix[i, j] += 1\n",
    "                    \n",
    "        return matrix"
   ]
  },
  {
   "cell_type": "code",
   "execution_count": 6,
   "metadata": {},
   "outputs": [],
   "source": [
    "class MultinomialNB:\n",
    "    def __init__(self, alpha=1.0):\n",
    "        self.alpha = alpha\n",
    "        \n",
    "    def fit(self, X, y):\n",
    "        self.classes = np.unique(y)\n",
    "        self.class_count = np.zeros(len(self.classes))\n",
    "        self.feature_count = np.zeros((len(self.classes), X.shape[1]))\n",
    "        \n",
    "        for idx, cls in enumerate(self.classes):\n",
    "            X_cls = X[y == cls]\n",
    "            self.class_count[idx] = X_cls.shape[0]\n",
    "            self.feature_count[idx, :] = np.sum(X_cls, axis=0)\n",
    "        \n",
    "        self.class_log_prior = np.log(self.class_count / np.sum(self.class_count))\n",
    "        self.feature_log_prob = np.log((self.feature_count + self.alpha) / \n",
    "                                     (self.feature_count.sum(axis=1, keepdims=True) + self.alpha * X.shape[1]))\n",
    "    \n",
    "    def predict(self, X):\n",
    "        log_probs = X @ self.feature_log_prob.T + self.class_log_prior\n",
    "        return self.classes[np.argmax(log_probs, axis=1)]"
   ]
  },
  {
   "cell_type": "code",
   "execution_count": 7,
   "metadata": {},
   "outputs": [
    {
     "name": "stdout",
     "output_type": "stream",
     "text": [
      "Multinomial Naive Bayes: \n",
      "\n",
      "Accuracy Score: 92.61%\n",
      "\n",
      "Confusion Matrix: \n",
      " [[105   0   1   1   7   0]\n",
      " [  1  74   2   2   7   0]\n",
      " [  2   0  82   2   2   0]\n",
      " [  0   1   0  95   1   0]\n",
      " [  2   2   0   2  95   0]\n",
      " [  0   0   0   1   0   0]]\n"
     ]
    }
   ],
   "source": [
    "# Create instances\n",
    "count_vectorizer = CountVectorizer()\n",
    "nb_classifier = MultinomialNB()\n",
    "\n",
    "# Transform training data\n",
    "count_X_train = count_vectorizer.fit_transform(X_train)\n",
    "count_X_test = count_vectorizer.transform(X_test)\n",
    "\n",
    "# Train the classifier\n",
    "nb_classifier.fit(count_X_train, y_train)\n",
    "\n",
    "pred = nb_classifier.predict(count_X_test)\n",
    "\n",
    "print(\"Multinomial Naive Bayes: \\n\")\n",
    "a_score = metrics.accuracy_score(y_test, pred)\n",
    "print(f\"Accuracy Score: {a_score:.2%}\\n\")\n",
    "\n",
    "c_matrix = metrics.confusion_matrix(y_test, pred)\n",
    "print(\"Confusion Matrix: \\n\", c_matrix)"
   ]
  },
  {
   "cell_type": "code",
   "execution_count": 8,
   "metadata": {},
   "outputs": [
    {
     "name": "stdout",
     "output_type": "stream",
     "text": [
      "Predicted Category: sport\n"
     ]
    }
   ],
   "source": [
    "encoded_categories = {\n",
    "    0: 'business',\n",
    "    1: 'entertainment',\n",
    "    2: 'politics',\n",
    "    3: 'sport', \n",
    "    4: 'tech'\n",
    "}\n",
    "\n",
    "user_headline = input(\"Enter News Headline: \")\n",
    "headline_counts = count_vectorizer.transform([user_headline])\n",
    "predictions = nb_classifier.predict(headline_counts)\n",
    "\n",
    "predicted_index = predictions[0]\n",
    "print(\"Predicted Category:\", encoded_categories[predicted_index])"
   ]
  }
 ],
 "metadata": {
  "kernelspec": {
   "display_name": "Python 3",
   "language": "python",
   "name": "python3"
  },
  "language_info": {
   "codemirror_mode": {
    "name": "ipython",
    "version": 3
   },
   "file_extension": ".py",
   "mimetype": "text/x-python",
   "name": "python",
   "nbconvert_exporter": "python",
   "pygments_lexer": "ipython3",
   "version": "3.12.3"
  }
 },
 "nbformat": 4,
 "nbformat_minor": 2
}
